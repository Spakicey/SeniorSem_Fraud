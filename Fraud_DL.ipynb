{
 "cells": [
  {
   "cell_type": "code",
   "execution_count": 1,
   "metadata": {},
   "outputs": [],
   "source": [
    "# Author: Zacheriah Valis\n",
    "# Python implementation of a Deep Neural Network in \n",
    "# determining financial fraud using highly imbalanced data\n",
    "import tensorflow as tf\n",
    "from tensorflow import keras\n",
    "import pandas as pd\n",
    "import numpy as np\n",
    "import matplotlib.pyplot as plt\n",
    "import seaborn as sns"
   ]
  },
  {
   "cell_type": "code",
   "execution_count": 2,
   "metadata": {},
   "outputs": [
    {
     "name": "stdout",
     "output_type": "stream",
     "text": [
      "(6362620, 11)\n",
      "['step', 'type', 'amount', 'nameOrig', 'oldbalanceOrg', 'newbalanceOrig', 'nameDest', 'oldbalanceDest', 'newbalanceDest', 'isFraud', 'isFlaggedFraud']\n"
     ]
    }
   ],
   "source": [
    "# Read in data\n",
    "data = pd.read_csv('Desktop/CS599/fraud_data.csv', header = 0)\n",
    "data = data.dropna()\n",
    "print(data.shape)\n",
    "print(list(data.columns))"
   ]
  },
  {
   "cell_type": "code",
   "execution_count": 3,
   "metadata": {},
   "outputs": [
    {
     "data": {
      "text/html": [
       "<div>\n",
       "<style scoped>\n",
       "    .dataframe tbody tr th:only-of-type {\n",
       "        vertical-align: middle;\n",
       "    }\n",
       "\n",
       "    .dataframe tbody tr th {\n",
       "        vertical-align: top;\n",
       "    }\n",
       "\n",
       "    .dataframe thead th {\n",
       "        text-align: right;\n",
       "    }\n",
       "</style>\n",
       "<table border=\"1\" class=\"dataframe\">\n",
       "  <thead>\n",
       "    <tr style=\"text-align: right;\">\n",
       "      <th></th>\n",
       "      <th>step</th>\n",
       "      <th>type</th>\n",
       "      <th>amount</th>\n",
       "      <th>nameOrig</th>\n",
       "      <th>oldbalanceOrg</th>\n",
       "      <th>newbalanceOrig</th>\n",
       "      <th>nameDest</th>\n",
       "      <th>oldbalanceDest</th>\n",
       "      <th>newbalanceDest</th>\n",
       "      <th>isFraud</th>\n",
       "      <th>isFlaggedFraud</th>\n",
       "      <th>HourOfDay</th>\n",
       "    </tr>\n",
       "  </thead>\n",
       "  <tbody>\n",
       "    <tr>\n",
       "      <th>0</th>\n",
       "      <td>1</td>\n",
       "      <td>PAYMENT</td>\n",
       "      <td>9839.64</td>\n",
       "      <td>C1231006815</td>\n",
       "      <td>170136.0</td>\n",
       "      <td>160296.36</td>\n",
       "      <td>M1979787155</td>\n",
       "      <td>0.0</td>\n",
       "      <td>0.0</td>\n",
       "      <td>0</td>\n",
       "      <td>0</td>\n",
       "      <td>1</td>\n",
       "    </tr>\n",
       "    <tr>\n",
       "      <th>1</th>\n",
       "      <td>1</td>\n",
       "      <td>PAYMENT</td>\n",
       "      <td>1864.28</td>\n",
       "      <td>C1666544295</td>\n",
       "      <td>21249.0</td>\n",
       "      <td>19384.72</td>\n",
       "      <td>M2044282225</td>\n",
       "      <td>0.0</td>\n",
       "      <td>0.0</td>\n",
       "      <td>0</td>\n",
       "      <td>0</td>\n",
       "      <td>1</td>\n",
       "    </tr>\n",
       "    <tr>\n",
       "      <th>2</th>\n",
       "      <td>1</td>\n",
       "      <td>TRANSFER</td>\n",
       "      <td>181.00</td>\n",
       "      <td>C1305486145</td>\n",
       "      <td>181.0</td>\n",
       "      <td>0.00</td>\n",
       "      <td>C553264065</td>\n",
       "      <td>0.0</td>\n",
       "      <td>0.0</td>\n",
       "      <td>1</td>\n",
       "      <td>0</td>\n",
       "      <td>1</td>\n",
       "    </tr>\n",
       "    <tr>\n",
       "      <th>3</th>\n",
       "      <td>1</td>\n",
       "      <td>CASH_OUT</td>\n",
       "      <td>181.00</td>\n",
       "      <td>C840083671</td>\n",
       "      <td>181.0</td>\n",
       "      <td>0.00</td>\n",
       "      <td>C38997010</td>\n",
       "      <td>21182.0</td>\n",
       "      <td>0.0</td>\n",
       "      <td>1</td>\n",
       "      <td>0</td>\n",
       "      <td>1</td>\n",
       "    </tr>\n",
       "    <tr>\n",
       "      <th>4</th>\n",
       "      <td>1</td>\n",
       "      <td>PAYMENT</td>\n",
       "      <td>11668.14</td>\n",
       "      <td>C2048537720</td>\n",
       "      <td>41554.0</td>\n",
       "      <td>29885.86</td>\n",
       "      <td>M1230701703</td>\n",
       "      <td>0.0</td>\n",
       "      <td>0.0</td>\n",
       "      <td>0</td>\n",
       "      <td>0</td>\n",
       "      <td>1</td>\n",
       "    </tr>\n",
       "  </tbody>\n",
       "</table>\n",
       "</div>"
      ],
      "text/plain": [
       "   step      type    amount     nameOrig  oldbalanceOrg  newbalanceOrig  \\\n",
       "0     1   PAYMENT   9839.64  C1231006815       170136.0       160296.36   \n",
       "1     1   PAYMENT   1864.28  C1666544295        21249.0        19384.72   \n",
       "2     1  TRANSFER    181.00  C1305486145          181.0            0.00   \n",
       "3     1  CASH_OUT    181.00   C840083671          181.0            0.00   \n",
       "4     1   PAYMENT  11668.14  C2048537720        41554.0        29885.86   \n",
       "\n",
       "      nameDest  oldbalanceDest  newbalanceDest  isFraud  isFlaggedFraud  \\\n",
       "0  M1979787155             0.0             0.0        0               0   \n",
       "1  M2044282225             0.0             0.0        0               0   \n",
       "2   C553264065             0.0             0.0        1               0   \n",
       "3    C38997010         21182.0             0.0        1               0   \n",
       "4  M1230701703             0.0             0.0        0               0   \n",
       "\n",
       "   HourOfDay  \n",
       "0          1  \n",
       "1          1  \n",
       "2          1  \n",
       "3          1  \n",
       "4          1  "
      ]
     },
     "execution_count": 3,
     "metadata": {},
     "output_type": "execute_result"
    }
   ],
   "source": [
    "# Creating hour of day column and adding to data frame\n",
    "data[\"HourOfDay\"] = np.nan\n",
    "data.HourOfDay = data.step % 24\n",
    "data.head()"
   ]
  },
  {
   "cell_type": "code",
   "execution_count": 4,
   "metadata": {},
   "outputs": [
    {
     "name": "stdout",
     "output_type": "stream",
     "text": [
      "['step', 'type', 'amount', 'nameOrig', 'oldbalanceOrg', 'newbalanceOrig', 'nameDest', 'oldbalanceDest', 'newbalanceDest', 'isFraud', 'isFlaggedFraud', 'HourOfDay', 'type_CASH_IN', 'type_CASH_OUT', 'type_DEBIT', 'type_PAYMENT', 'type_TRANSFER']\n"
     ]
    }
   ],
   "source": [
    "# Creating dummy variables and adding to data frame\n",
    "cat_vars = ['type']\n",
    "for var in cat_vars:\n",
    "    cat_list = 'var' + '_' + var\n",
    "    cat_list = pd.get_dummies(data[var], prefix = var)\n",
    "    data1 = data.join(cat_list)\n",
    "    data = data1\n",
    "cat_vars = ['type']\n",
    "data_vars = data.columns.values.tolist()\n",
    "to_keep = [i for i in data_vars if i not in cat_vars]\n",
    "\n",
    "print(list(data.columns))"
   ]
  },
  {
   "cell_type": "code",
   "execution_count": 5,
   "metadata": {},
   "outputs": [
    {
     "data": {
      "text/plain": [
       "array(['HourOfDay', 'amount', 'isFlaggedFraud', 'isFraud',\n",
       "       'newbalanceDest', 'newbalanceOrig', 'oldbalanceDest',\n",
       "       'oldbalanceOrg', 'step', 'type_CASH_IN', 'type_CASH_OUT',\n",
       "       'type_DEBIT', 'type_PAYMENT', 'type_TRANSFER'], dtype=object)"
      ]
     },
     "execution_count": 5,
     "metadata": {},
     "output_type": "execute_result"
    }
   ],
   "source": [
    "# Deleting nameOrgi and nameDest. These may or may no be useful\n",
    "# for a neural network, but the data needs to be consistent with\n",
    "# the logistic regression implementation\n",
    "data_final = data[to_keep]\n",
    "data_final = data_final[data_final.columns.difference(['nameOrig', 'nameDest'])]\n",
    "data_final.columns.values"
   ]
  },
  {
   "cell_type": "code",
   "execution_count": 6,
   "metadata": {},
   "outputs": [
    {
     "name": "stderr",
     "output_type": "stream",
     "text": [
      "Using TensorFlow backend.\n"
     ]
    },
    {
     "name": "stdout",
     "output_type": "stream",
     "text": [
      "Length of oversampled data is  8896080\n",
      "Number of no fraud in oversampled data 4448040\n",
      "Number of fraud 4448040\n",
      "Proportion of no fraud data in oversampled data is  0.5\n",
      "Proportion of fraud data in oversampled data is  0.5\n"
     ]
    }
   ],
   "source": [
    "# Correcting highly imbalanced data by using synthetic data creation with SMOTE\n",
    "X = data_final.loc[:, data_final.columns != 'isFraud']\n",
    "Y = data_final.loc[:, data_final.columns == 'isFraud']\n",
    "\n",
    "from imblearn.over_sampling import SMOTE\n",
    "from sklearn.model_selection import train_test_split\n",
    "\n",
    "os = SMOTE(random_state = 0)\n",
    "X_train, X_test, Y_train, Y_test = train_test_split(X, Y, test_size = 0.3, random_state = 0)\n",
    "columns = X_train.columns\n",
    "\n",
    "os_data_X, os_data_Y = os.fit_sample(X_train, Y_train)\n",
    "os_data_X = pd.DataFrame(data = os_data_X,columns = columns )\n",
    "os_data_Y = pd.DataFrame(data = os_data_Y,columns = ['isFraud'])\n",
    "\n",
    "print(\"Length of oversampled data is \",len(os_data_X))\n",
    "print(\"Number of no fraud in oversampled data\",len(os_data_Y[os_data_Y['isFraud'] == 0]))\n",
    "print(\"Number of fraud\",len(os_data_Y[os_data_Y['isFraud'] == 1]))\n",
    "print(\"Proportion of no fraud data in oversampled data is \",len(os_data_Y[os_data_Y['isFraud'] == 0]) / len(os_data_X))\n",
    "print(\"Proportion of fraud data in oversampled data is \",len(os_data_Y[os_data_Y['isFraud'] == 1]) / len(os_data_X))"
   ]
  },
  {
   "cell_type": "code",
   "execution_count": 7,
   "metadata": {},
   "outputs": [],
   "source": [
    "# Preparing data to fit to model\n",
    "cols = ['amount', 'newbalanceDest', 'newbalanceOrig', \n",
    "        'oldbalanceDest', 'oldbalanceOrg', 'step', \n",
    "        'type_CASH_OUT','type_TRANSFER', 'HourOfDay']\n",
    "X = os_data_X[cols]\n",
    "#X = X.transpose()\n",
    "Y = os_data_Y['isFraud']\n",
    "#Y = Y.transpose()\n",
    "\n",
    "X_train, X_test, Y_train, Y_test = train_test_split(X, Y, test_size = 0.3, random_state = 0)"
   ]
  },
  {
   "cell_type": "code",
   "execution_count": 8,
   "metadata": {},
   "outputs": [],
   "source": [
    "# Function to build model and compile metrics\n",
    "def build_model(train_data, metrics = [\"accuracy\"]):\n",
    "  model = keras.Sequential([\n",
    "    keras.layers.Dense(\n",
    "      units = 36,\n",
    "      activation = 'relu',\n",
    "      input_shape = (train_data.shape[-1],) # Input layer\n",
    "    ),\n",
    "    keras.layers.BatchNormalization(), # Hidden layer #1\n",
    "    keras.layers.Dropout(0.25), # Hidden layer #2\n",
    "    keras.layers.Dense(units = 1, activation = 'sigmoid'), # Output layer\n",
    "  ])\n",
    "\n",
    "  model.compile(\n",
    "    optimizer = keras.optimizers.Adam(lr = 0.001),\n",
    "    loss = keras.losses.BinaryCrossentropy(),\n",
    "    metrics = metrics\n",
    "  )\n",
    "\n",
    "  return model"
   ]
  },
  {
   "cell_type": "code",
   "execution_count": 9,
   "metadata": {},
   "outputs": [],
   "source": [
    "# Creating class weights\n",
    "no_fraud_count, fraud_count = np.bincount(data_final.isFraud)\n",
    "total_count = len(data_final.isFraud)\n",
    "\n",
    "weight_no_fraud = (1 / no_fraud_count) * (total_count) / 2.0\n",
    "weight_fraud = (1 / fraud_count) * (total_count) / 2.0\n",
    "\n",
    "class_weights = {0: weight_no_fraud, 1: weight_fraud}"
   ]
  },
  {
   "cell_type": "code",
   "execution_count": 10,
   "metadata": {},
   "outputs": [],
   "source": [
    "# List containing relevant metrics\n",
    "METRICS = [\n",
    "      keras.metrics.TruePositives(name = 'tp'),\n",
    "      keras.metrics.FalsePositives(name = 'fp'),\n",
    "      keras.metrics.TrueNegatives(name = 'tn'),\n",
    "      keras.metrics.FalseNegatives(name = 'fn'),\n",
    "      keras.metrics.BinaryAccuracy(name = 'accuracy'),\n",
    "      keras.metrics.Precision(name = 'precision'),\n",
    "      keras.metrics.Recall(name = 'recall'),\n",
    "      keras.metrics.AUC(name = 'AUC'),\n",
    "]"
   ]
  },
  {
   "cell_type": "code",
   "execution_count": 11,
   "metadata": {},
   "outputs": [],
   "source": [
    "# Build the model and fit with training data\n",
    "X_train = np.asarray(X_train)\n",
    "Y_train = np.asarray(Y_train)\n",
    "BATCH_SIZE = 2048\n",
    "\n",
    "model = build_model(X_train, metrics = METRICS)\n",
    "history = model.fit(\n",
    "    X_train,\n",
    "    Y_train,\n",
    "    batch_size = BATCH_SIZE,\n",
    "    epochs = 100,\n",
    "    validation_split = 0.05,\n",
    "    shuffle = True,\n",
    "    verbose = 0,\n",
    "    class_weight = class_weights\n",
    ")"
   ]
  },
  {
   "cell_type": "code",
   "execution_count": null,
   "metadata": {},
   "outputs": [],
   "source": [
    "# Evaluate trained model with test data\n",
    "X_test = np.asarray(X_test)\n",
    "Y_test = np.asarray(Y_test)\n",
    "model.evaluate(X_test, Y_test, batch_size = BATCH_SIZE)"
   ]
  },
  {
   "cell_type": "code",
   "execution_count": 13,
   "metadata": {},
   "outputs": [],
   "source": [
    "# Function to create confusion matrix with heat map\n",
    "from sklearn.metrics import confusion_matrix\n",
    "\n",
    "def plot_cm(labels, predictions, p = 0.5):\n",
    "\n",
    "  tick_labels = ['No Fraud', 'Fraud']\n",
    "\n",
    "  cm = confusion_matrix(labels, predictions > p)\n",
    "  ax = sns.heatmap(cm, annot = True, fmt = \"d\")\n",
    "  plt.ylabel('Actual')\n",
    "  plt.xlabel('Predicted')\n",
    "  ax.set_xticklabels(tick_labels)\n",
    "  ax.set_yticklabels(tick_labels)"
   ]
  },
  {
   "cell_type": "code",
   "execution_count": 14,
   "metadata": {},
   "outputs": [],
   "source": [
    "Y_pred = model.predict(X_test, batch_size = BATCH_SIZE)"
   ]
  },
  {
   "cell_type": "code",
   "execution_count": 15,
   "metadata": {
    "scrolled": true
   },
   "outputs": [
    {
     "data": {
      "image/png": "[encoded data removed]",
      "text/plain": [
       "<Figure size 432x288 with 2 Axes>"
      ]
     },
     "metadata": {
      "needs_background": "light"
     },
     "output_type": "display_data"
    }
   ],
   "source": [
    "plot_cm(Y_test, Y_pred)"
   ]
  },
  {
   "cell_type": "code",
   "execution_count": 16,
   "metadata": {},
   "outputs": [],
   "source": [
    "# Function to print metrics and calculate f1 score\n",
    "from sklearn.metrics import f1_score\n",
    "\n",
    "def print_metrics(model, evaluation_results, predictions):\n",
    "  for name, value in zip(model.metrics_names, evaluation_results):\n",
    "    print(name, ': ', value)\n",
    "  print(f'f1 score: {f1_score(Y_test, np.round(Y_pred.flatten()))}')\n",
    "  print()"
   ]
  },
  {
   "cell_type": "code",
   "execution_count": 17,
   "metadata": {},
   "outputs": [
    {
     "name": "stdout",
     "output_type": "stream",
     "text": [
      "loss :  0.5822347745069347\n",
      "tp :  1334904.0\n",
      "fp :  633177.0\n",
      "tn :  700728.0\n",
      "fn :  15.0\n",
      "accuracy :  0.76274496\n",
      "precision :  0.67827696\n",
      "recall :  0.99998873\n",
      "AUC :  0.9866921\n",
      "f1 score: 0.808297910990009\n",
      "\n"
     ]
    }
   ],
   "source": [
    "evaluation_results = model.evaluate(X_test, Y_test, batch_size = BATCH_SIZE, verbose = 0)\n",
    "print_metrics(model, evaluation_results, Y_pred)"
   ]
  },
  {
   "cell_type": "code",
   "execution_count": 18,
   "metadata": {},
   "outputs": [
    {
     "data": {
      "image/png": "[encoded data removed]",
      "text/plain": [
       "<Figure size 432x288 with 1 Axes>"
      ]
     },
     "metadata": {
      "needs_background": "light"
     },
     "output_type": "display_data"
    }
   ],
   "source": [
    "# Plotting ROC\n",
    "from sklearn.metrics import roc_curve\n",
    "from sklearn.metrics import roc_auc_score\n",
    "fpr, tpr, thresholds = roc_curve(Y_test, Y_pred)\n",
    "logit_roc_auc = roc_auc_score(Y_test, Y_pred)\n",
    "plt.figure()\n",
    "plt.plot(fpr, tpr, label = 'Deep Learning (area = %0.2f)' % logit_roc_auc)\n",
    "plt.plot([0, 1], [0, 1],'r--')\n",
    "plt.xlim([0.0, 1.0])\n",
    "plt.ylim([0.0, 1.05])\n",
    "plt.xlabel('False Positive Rate')\n",
    "plt.ylabel('True Positive Rate')\n",
    "plt.title('Receiver Operating Characteristic')\n",
    "plt.legend(loc = \"lower right\")\n",
    "plt.savefig('DL_ROC')\n",
    "plt.show()"
   ]
  },
  {
   "cell_type": "code",
   "execution_count": null,
   "metadata": {},
   "outputs": [],
   "source": []
  }
 ],
 "metadata": {
  "kernelspec": {
   "display_name": "Python 3",
   "language": "python",
   "name": "python3"
  },
  "language_info": {
   "codemirror_mode": {
    "name": "ipython",
    "version": 3
   },
   "file_extension": ".py",
   "mimetype": "text/x-python",
   "name": "python",
   "nbconvert_exporter": "python",
   "pygments_lexer": "ipython3",
   "version": "3.7.7"
  }
 },
 "nbformat": 4,
 "nbformat_minor": 4
}
